{
  "nbformat": 4,
  "nbformat_minor": 0,
  "metadata": {
    "colab": {
      "provenance": [],
      "authorship_tag": "ABX9TyOSq+jgchtRgIGfEmJ88vkk",
      "include_colab_link": true
    },
    "kernelspec": {
      "name": "python3",
      "display_name": "Python 3"
    },
    "language_info": {
      "name": "python"
    }
  },
  "cells": [
    {
      "cell_type": "markdown",
      "metadata": {
        "id": "view-in-github",
        "colab_type": "text"
      },
      "source": [
        "<a href=\"https://colab.research.google.com/github/tobypullan/tobypullan.github.io/blob/main/Micrograd_p3s1.ipynb\" target=\"_parent\"><img src=\"https://colab.research.google.com/assets/colab-badge.svg\" alt=\"Open In Colab\"/></a>"
      ]
    },
    {
      "cell_type": "markdown",
      "source": [
        "## Building the neural net library\n",
        "In this exercise, we will build classes for neurons, layers and a multi-layer perceptron (a basic neural network)"
      ],
      "metadata": {
        "id": "cRotdn_rJBrp"
      }
    },
    {
      "cell_type": "code",
      "source": [
        "import random\n",
        "import math"
      ],
      "metadata": {
        "id": "Cf0Zg-Z7PG0y"
      },
      "execution_count": 7,
      "outputs": []
    },
    {
      "cell_type": "code",
      "execution_count": 1,
      "metadata": {
        "id": "pu2SZq5pI4rW"
      },
      "outputs": [],
      "source": [
        "# Value class (taken from https://github.com/karpathy/nn-zero-to-hero/blob/master/lectures/micrograd/micrograd_lecture_second_half_roughly.ipynb)\n",
        "class Value:\n",
        "\n",
        "  def __init__(self, data, _children=(), _op='', label=''):\n",
        "    self.data = data\n",
        "    self.grad = 0.0\n",
        "    self._backward = lambda: None\n",
        "    self._prev = set(_children)\n",
        "    self._op = _op\n",
        "    self.label = label\n",
        "\n",
        "  def __repr__(self):\n",
        "    return f\"Value(data={self.data})\"\n",
        "\n",
        "  def __add__(self, other):\n",
        "    other = other if isinstance(other, Value) else Value(other)\n",
        "    out = Value(self.data + other.data, (self, other), '+')\n",
        "\n",
        "    def _backward():\n",
        "      self.grad += 1.0 * out.grad\n",
        "      other.grad += 1.0 * out.grad\n",
        "    out._backward = _backward\n",
        "\n",
        "    return out\n",
        "\n",
        "  def __mul__(self, other):\n",
        "    other = other if isinstance(other, Value) else Value(other)\n",
        "    out = Value(self.data * other.data, (self, other), '*')\n",
        "\n",
        "    def _backward():\n",
        "      self.grad += other.data * out.grad\n",
        "      other.grad += self.data * out.grad\n",
        "    out._backward = _backward\n",
        "\n",
        "    return out\n",
        "\n",
        "  def __pow__(self, other):\n",
        "    assert isinstance(other, (int, float)), \"only supporting int/float powers for now\"\n",
        "    out = Value(self.data**other, (self,), f'**{other}')\n",
        "\n",
        "    def _backward():\n",
        "        self.grad += other * (self.data ** (other - 1)) * out.grad\n",
        "    out._backward = _backward\n",
        "\n",
        "    return out\n",
        "\n",
        "  def __rmul__(self, other): # other * self\n",
        "    return self * other\n",
        "\n",
        "  def __truediv__(self, other): # self / other\n",
        "    return self * other**-1\n",
        "\n",
        "  def __neg__(self): # -self\n",
        "    return self * -1\n",
        "\n",
        "  def __sub__(self, other): # self - other\n",
        "    return self + (-other)\n",
        "\n",
        "  def __radd__(self, other): # other + self\n",
        "    return self + other\n",
        "\n",
        "  def tanh(self):\n",
        "    x = self.data\n",
        "    t = (math.exp(2*x) - 1)/(math.exp(2*x) + 1)\n",
        "    out = Value(t, (self, ), 'tanh')\n",
        "\n",
        "    def _backward():\n",
        "      self.grad += (1 - t**2) * out.grad\n",
        "    out._backward = _backward\n",
        "\n",
        "    return out\n",
        "\n",
        "  def exp(self):\n",
        "    x = self.data\n",
        "    out = Value(math.exp(x), (self, ), 'exp')\n",
        "\n",
        "    def _backward():\n",
        "      self.grad += out.data * out.grad # NOTE: in the video I incorrectly used = instead of +=. Fixed here.\n",
        "    out._backward = _backward\n",
        "\n",
        "    return out\n",
        "\n",
        "\n",
        "  def backward(self):\n",
        "\n",
        "    topo = []\n",
        "    visited = set()\n",
        "    def build_topo(v):\n",
        "      if v not in visited:\n",
        "        visited.add(v)\n",
        "        for child in v._prev:\n",
        "          build_topo(child)\n",
        "        topo.append(v)\n",
        "    build_topo(self)\n",
        "\n",
        "    self.grad = 1.0\n",
        "    for node in reversed(topo):\n",
        "      node._backward()"
      ]
    },
    {
      "cell_type": "code",
      "source": [
        "# Create a neuron class\n",
        "class Neuron:\n",
        "  \"\"\"\n",
        "  On initialisation, creates nin weights and a bias\n",
        "  Each should be initialised to a Value with data between -1 and 1\n",
        "\n",
        "  When called, should output the sum of each weight * its corresponding\n",
        "  input and the bias, put through the tanh nonlinearity when it is called\n",
        "  \"\"\"\n",
        "  def __init__(self, nin):\n",
        "    pass\n",
        "\n",
        "  def __call__(self, x):\n",
        "    pass"
      ],
      "metadata": {
        "id": "kwyJwq4MJ7T8"
      },
      "execution_count": 3,
      "outputs": []
    },
    {
      "cell_type": "code",
      "source": [
        "# Create a layer class\n",
        "class Layer:\n",
        "  \"\"\"\n",
        "  On initalisation, create nout neurons that each have nin inputs\n",
        "  Create nout neurons as each neuron produces 1 output\n",
        "\n",
        "  When called, return the output of every neuron in the layer in a list\n",
        "  \"\"\"\n",
        "  def __init__(self, nin, nout):\n",
        "    pass\n",
        "  def __call__(self, x):\n",
        "    pass\n",
        ""
      ],
      "metadata": {
        "id": "SE_N488iK09d"
      },
      "execution_count": 4,
      "outputs": []
    },
    {
      "cell_type": "code",
      "source": [
        "# Create an MLP class\n",
        "class MLP:\n",
        "  \"\"\"\n",
        "  On initalisation, takes nin and nouts as parameters\n",
        "  nouts is a list of ints containing the number of outputs of each layer\n",
        "  nin is a single int\n",
        "  Creates a layer for each of the nouts\n",
        "\n",
        "  When called, return the output of the MLP by passing in x to the first layer\n",
        "  then the output of the first layer into the second layer and so on\n",
        "  \"\"\"\n",
        "  def __init__(self, nin, nouts):\n",
        "    pass\n",
        "  def __call__(self, x):\n",
        "    pass"
      ],
      "metadata": {
        "id": "u0McvbQeLWzM"
      },
      "execution_count": 5,
      "outputs": []
    },
    {
      "cell_type": "code",
      "source": [
        "# Test\n",
        "x = [2.0, 3.0, -1.0]\n",
        "n = MLP(3, [4, 4, 1])\n",
        "n(x)"
      ],
      "metadata": {
        "id": "cuBSeNuzOF09"
      },
      "execution_count": null,
      "outputs": []
    }
  ]
}